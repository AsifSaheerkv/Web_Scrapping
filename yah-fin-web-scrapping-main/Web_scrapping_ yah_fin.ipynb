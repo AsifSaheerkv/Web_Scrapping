{
  "cells": [
    {
      "cell_type": "markdown",
      "metadata": {
        "id": "rbYrnJRTXW8P"
      },
      "source": [
        "Python for Finance using the Yahoo_fin Package "
      ]
    },
    {
      "cell_type": "code",
      "execution_count": null,
      "metadata": {
        "id": "xoajTARycJO-"
      },
      "outputs": [],
      "source": [
        "!pip install yahoo_fin\n",
        "!pip install request_html"
      ]
    },
    {
      "cell_type": "markdown",
      "metadata": {
        "id": "J7wClqhyYk6d"
      },
      "source": [
        "You can simply use the '!pip install' command to install the following package. "
      ]
    },
    {
      "cell_type": "markdown",
      "metadata": {
        "id": "dMxf75aaYu9m"
      },
      "source": [
        "After installing the package we can simply install the relevant libraries for the further data analysis "
      ]
    },
    {
      "cell_type": "code",
      "execution_count": null,
      "metadata": {
        "id": "1mJushqFV4RY"
      },
      "outputs": [],
      "source": [
        "from yahoo_fin import stock_info as si\n",
        "import pandas as pd\n",
        "import numpy as np\n",
        "from datetime import datetime\n"
      ]
    },
    {
      "cell_type": "code",
      "execution_count": null,
      "metadata": {
        "id": "SQW1L_lv1YxZ"
      },
      "outputs": [],
      "source": [
        "#Creating functions to execute the main function "
      ]
    },
    {
      "cell_type": "code",
      "execution_count": 4,
      "metadata": {
        "id": "a54ooJyFDocC"
      },
      "outputs": [],
      "source": [
        "#this function will fetch the historical data \n",
        "\n",
        "def stock(ticker):\n",
        "  stock_1 = si.get_data(ticker, start_date='1-1-2010', end_date=None, index_as_date=True, interval='1mo')\n",
        "  print(stock_1)"
      ]
    },
    {
      "cell_type": "markdown",
      "metadata": {
        "id": "li0-p7fGY8D2"
      },
      "source": [
        "After installing the libraries, I have created a function called stock_info, the function basically uses the yahoo_fin package and pulls in information like the real time price, further information about the stock, valuation for the stock. There are many more function you can use to call extra data if needed. "
      ]
    },
    {
      "cell_type": "code",
      "execution_count": 3,
      "metadata": {
        "id": "StBJWRDFXVKx"
      },
      "outputs": [],
      "source": [
        "#this function will but the stock_information \n",
        "\n",
        "def stock_info(ticker):\n",
        " info = si.get_analysts_info(ticker)\n",
        " val = si.get_stats_valuation(ticker)\n",
        " live_price = si.get_live_price(ticker)\n",
        " return(live_price,val,info)"
      ]
    },
    {
      "cell_type": "markdown",
      "metadata": {
        "id": "YCHb4mQlZXb7"
      },
      "source": [
        "After defining a function for stock_info I have defined another fucntion called stock which pulls in historical data for the stock you're looking for:"
      ]
    },
    {
      "cell_type": "code",
      "execution_count": 12,
      "metadata": {
        "id": "mptjpqLH0aWc"
      },
      "outputs": [],
      "source": [
        "#this function will pull the information like cashflow, balance sheet and inceome statement for the ticker \n",
        "\n",
        "def all_stock_info(ticker):\n",
        "  balance_sheet = si.get_balance_sheet(ticker)\n",
        "  cash_flow = si.get_cash_flow(ticker)\n",
        "  income_statement = si.get_income_statement(ticker)\n",
        "\n",
        "  return(balance_sheet, cash_flow, income_statement)\n",
        "\n"
      ]
    },
    {
      "cell_type": "code",
      "execution_count": 13,
      "metadata": {
        "id": "Ue_HQmjJ00I-"
      },
      "outputs": [],
      "source": [
        "#This is the main function which will output all the other functions when called \n",
        "\n",
        "def main(ticker):\n",
        "  a = stock(ticker)\n",
        "  b = stock_info(ticker)\n",
        "  c = all_stock_info(ticker)\n",
        "\n",
        "  return(a, b, c)\n"
      ]
    },
    {
      "cell_type": "code",
      "execution_count": null,
      "metadata": {
        "id": "0UBsg7KC1AE8"
      },
      "outputs": [],
      "source": [
        "main('TSLA')"
      ]
    }
  ],
  "metadata": {
    "colab": {
      "authorship_tag": "ABX9TyOJ4weYkFquGIAju+QGhxjK",
      "collapsed_sections": [],
      "name": "Yahoo_fin Package.ipynb",
      "provenance": []
    },
    "kernelspec": {
      "display_name": "Python 3",
      "name": "python3"
    }
  },
  "nbformat": 4,
  "nbformat_minor": 0
}
